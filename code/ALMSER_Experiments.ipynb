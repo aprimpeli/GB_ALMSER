{
 "cells": [
  {
   "cell_type": "markdown",
   "metadata": {},
   "source": [
    "# Specifications"
   ]
  },
  {
   "cell_type": "markdown",
   "metadata": {},
   "source": [
    "Execute a single ALMSER experiment"
   ]
  },
  {
   "cell_type": "code",
   "execution_count": 1,
   "metadata": {},
   "outputs": [],
   "source": [
    "import os"
   ]
  },
  {
   "cell_type": "code",
   "execution_count": 2,
   "metadata": {},
   "outputs": [],
   "source": [
    "path = \"../datasets/musicbrainz20K/feature_vector_files/\"\n",
    "output_path = \"../datasets/musicbrainz20K/almser/\"\n",
    "fv_splitter = \"_\""
   ]
  },
  {
   "cell_type": "code",
   "execution_count": 3,
   "metadata": {},
   "outputs": [],
   "source": [
    "# Active Learning Settings\n",
    "max_queries =25\n",
    "runs = 1\n",
    "query_strategy = 'disagreement_post_graph' #disagreement, random, disagreeement_stratified, disagreement_post_graph\n",
    "files = os.listdir(path)\n",
    "files =[f.replace('.csv','') for f in files]"
   ]
  },
  {
   "cell_type": "markdown",
   "metadata": {},
   "source": [
    "# Passive Learning Results"
   ]
  },
  {
   "cell_type": "code",
   "execution_count": null,
   "metadata": {},
   "outputs": [],
   "source": [
    "from learningutils import *\n",
    "from sklearn.metrics import precision_recall_fscore_support, accuracy_score\n",
    "from collections import Counter \n",
    "\n",
    "pairs_fv_train= pd.read_csv(output_path+\"train_pairs_fv.csv\")\n",
    "pairs_fv_test= pd.read_csv(output_path+\"test_pairs_fv.csv\")\n",
    "\n",
    "metadata_columns = ['source_id','target_id','pair_id', 'agg_score','source','target', 'label']\n",
    "train_X = pairs_fv_train.drop(metadata_columns, axis=1)\n",
    "train_y = pairs_fv_train['label']\n",
    "\n",
    "test_X = pairs_fv_test.drop(metadata_columns, axis=1)\n",
    "test_y = pairs_fv_test['label']\n",
    "\n",
    "\n",
    "model = getClassifier('rf')\n",
    "model.fit(train_X,train_y)\n",
    "predictions = model.predict(test_X)\n",
    "prec, recall, fscore, support  = precision_recall_fscore_support(test_y, predictions, average='binary')\n",
    "\n",
    "print(\"Passive learing results: %f P, %f R, %f F1\" % (prec,recall,fscore))"
   ]
  },
  {
   "cell_type": "markdown",
   "metadata": {},
   "source": [
    "# Load the stored files and start ALMSER"
   ]
  },
  {
   "cell_type": "code",
   "execution_count": 4,
   "metadata": {},
   "outputs": [
    {
     "name": "stdout",
     "output_type": "stream",
     "text": [
      "datasets/musicbrainz20K/almser/\n",
      "Intersection: set()\n",
      "RUN 0\n",
      "Bootstrap model\n",
      "Bootstrap labeled set\n",
      "Start ALMSER\n",
      "ALMSER Mode: Active Learning |████████████████████████████████████████████████████████████████████████████████████----------------| 84.0% source                                                  4_8654\n",
      "target                                                 5_12478\n",
      "datasource_pair                                            4_5\n",
      "votes                        (False, True, True, False, False)\n",
      "disagreement                                               0.4\n",
      "datasource_pair_frequency                                  NaN\n",
      "inf_score                                                  0.4\n",
      "graph_inferred_label                                      True\n",
      "predicted_label                                          False\n",
      "graph_cc_size                                                3\n",
      "sel_proba                                             0.333333\n",
      "unsupervised_label                                        True\n",
      "pre_proba                                                 0.62\n",
      "majority_vote                                            False\n",
      "Name: 170051, dtype: object\n",
      "ALMSER Mode: Active Learning |████████████████████████████████████████████████████████████████████████████████████████------------| 88.0% source                                                 5_19147\n",
      "target                                                  1_2211\n",
      "datasource_pair                                            5_1\n",
      "votes                        (False, True, True, False, False)\n",
      "disagreement                                               0.4\n",
      "datasource_pair_frequency                                  NaN\n",
      "inf_score                                                  0.4\n",
      "graph_inferred_label                                     False\n",
      "predicted_label                                          False\n",
      "graph_cc_size                                                0\n",
      "sel_proba                                                    1\n",
      "unsupervised_label                                       False\n",
      "pre_proba                                                 0.78\n",
      "majority_vote                                            False\n",
      "Name: 208669, dtype: object\n",
      "ALMSER Mode: Active Learning |████████████████████████████████████████████████████████████████████████████████████████████--------| 92.0% source                                                  4_9192\n",
      "target                                                  5_4301\n",
      "datasource_pair                                            4_5\n",
      "votes                        (False, True, True, False, False)\n",
      "disagreement                                               0.4\n",
      "datasource_pair_frequency                                  NaN\n",
      "inf_score                                                  0.4\n",
      "graph_inferred_label                                     False\n",
      "predicted_label                                          False\n",
      "graph_cc_size                                                0\n",
      "sel_proba                                                    1\n",
      "unsupervised_label                                       False\n",
      "pre_proba                                                 0.93\n",
      "majority_vote                                            False\n",
      "Name: 159628, dtype: object\n",
      "ALMSER Mode: Active Learning |████████████████████████████████████████████████████████████████████████████████████████████████----| 96.0% source                                                  4_6867\n",
      "target                                                 1_16562\n",
      "datasource_pair                                            4_1\n",
      "votes                        (True, False, True, False, False)\n",
      "disagreement                                               0.4\n",
      "datasource_pair_frequency                                  NaN\n",
      "inf_score                                                  0.4\n",
      "graph_inferred_label                                      True\n",
      "predicted_label                                           True\n",
      "graph_cc_size                                                3\n",
      "sel_proba                                             0.333333\n",
      "unsupervised_label                                        True\n",
      "pre_proba                                                 0.67\n",
      "majority_vote                                             True\n",
      "Name: 150197, dtype: object\n",
      "ALMSER Mode: Active Learning |████████████████████████████████████████████████████████████████████████████████████████████████████| 100.0% \n"
     ]
    }
   ],
   "source": [
    "from scoreaggregation import *\n",
    "from ALMSER import *\n",
    "from ALMSER_EXP import *\n",
    "\n",
    "\n",
    "almser_path = output_path\n",
    "print(almser_path)\n",
    "\n",
    "pairs_fv_train= pd.read_csv(almser_path+\"train_pairs_fv.csv\")\n",
    "\n",
    "pairs_fv_train['datasource_pair'] = pairs_fv_train['source'].str.rsplit('_', 1).str[0]+fv_splitter+pairs_fv_train['target'].str.rsplit('_', 1).str[0]\n",
    "\n",
    "pairs_fv_test= pd.read_csv(almser_path+\"test_pairs_fv.csv\")\n",
    "pairs_fv_test['datasource_pair'] = pairs_fv_test['source'].str.rsplit('_', 1).str[0]+fv_splitter+pairs_fv_test['target'].str.rsplit('_', 1).str[0]\n",
    "\n",
    "all_nodes_test_match = set(pairs_fv_test[pairs_fv_test.label]['source'].values)\n",
    "all_nodes_test_match.update(set(pairs_fv_test[pairs_fv_test.label]['target'].values))\n",
    "\n",
    "all_nodes_train_match = set(pairs_fv_train[pairs_fv_train.label]['source'].values)\n",
    "all_nodes_train_match.update(set(pairs_fv_train[pairs_fv_train.label]['target'].values))\n",
    "\n",
    "print(\"Intersection:\", all_nodes_train_match.intersection(all_nodes_test_match))\n",
    "\n",
    "unique_source_pairs = files\n",
    "results_concat = pd.DataFrame(columns=['P_model','R_model','F1_model_micro','F1_model_macro','F1_model_micro_boot','F1_model_macro_boot'])\n",
    "results_all = pd.DataFrame(columns=['P','P_std','R','R_std','F1_micro','F1_micro_std','F1_macro','F1_macro_std','F1_micro_boot',\n",
    "                                   'F1_micro_boot_std','F1_macro_boot', 'F1_macro_boot_std' ])\n",
    "\n",
    "for run in range(runs):\n",
    "    print(\"RUN %i\" % run)\n",
    "    \n",
    "    almser_exp = ALMSER_EXP(pairs_fv_train, pairs_fv_test, unique_source_pairs, max_queries, 'rf',\n",
    "                        query_strategy, fv_splitter, bootstrap=True)\n",
    "    almser_exp.run_AL()\n",
    "    \n",
    "    results_concat= pd.concat((results_concat,(almser_exp.results[['P_model','R_model','F1_model_micro','F1_model_macro','F1_model_micro_boot','F1_model_macro_boot','F1_model_micro_boost_graph']])))\n",
    "\n",
    "results_concat_by_row_index = results_concat.groupby(results_concat.index)\n",
    "results_concat_mean =results_concat_by_row_index.mean(numeric_only=False) \n",
    "results_concat_std =results_concat_by_row_index.apply(np.std)\n",
    "\n",
    "\n",
    "results_all['P'] = results_concat_mean['P_model']\n",
    "results_all['P_std'] = results_concat_std['P_model']\n",
    "results_all['R'] = results_concat_mean['R_model']\n",
    "results_all['R_std'] = results_concat_std['R_model']\n",
    "results_all['F1_micro'] = results_concat_mean['F1_model_micro']\n",
    "results_all['F1_micro_std'] = results_concat_std['F1_model_micro']\n",
    "results_all['F1_macro'] = results_concat_mean['F1_model_macro']\n",
    "results_all['F1_macro_std'] = results_concat_std['F1_model_macro']\n",
    "results_all['F1_micro_boot'] = results_concat_mean['F1_model_micro_boot']\n",
    "results_all['F1_micro_boot_std'] = results_concat_std['F1_model_micro_boot']\n",
    "results_all['F1_macro_boot'] = results_concat_mean['F1_model_macro_boot']\n",
    "results_all['F1_macro_boot_std'] = results_concat_std['F1_model_macro_boot']\n",
    "results_all['F1_model_micro_boost_graph'] = results_concat_mean['F1_model_micro_boost_graph']\n",
    "results_all['F1_model_micro_boost_graph_std'] = results_concat_std['F1_model_micro_boost_graph']\n"
   ]
  },
  {
   "cell_type": "code",
   "execution_count": null,
   "metadata": {},
   "outputs": [],
   "source": [
    "#write results\n",
    "from datetime import datetime\n",
    "\n",
    "now = datetime.now()\n",
    "timestamp= now.strftime(\"%d_%m_%H_%M\")\n",
    "filename = \"%i_runs_%i_iter_%s_%s\" %(runs,max_queries,query_strategy,timestamp)\n",
    "\n",
    "almser_exp.results.to_csv(output_path+filename+\"_ALL.csv\", index=False)\n",
    "almser_exp.labeled_set.to_csv(output_path+filename+\"_LABELED_SET_INFO.csv\", index=False)\n",
    "almser_exp.informants_eval.to_csv(output_path+filename+\"_INFORMANTS_EVAL.csv\", index=False)\n",
    "results_all.to_csv(output_path+filename+\".csv\", index=False)\n"
   ]
  }
 ],
 "metadata": {
  "kernelspec": {
   "display_name": "Python 3",
   "language": "python",
   "name": "python3"
  },
  "language_info": {
   "codemirror_mode": {
    "name": "ipython",
    "version": 3
   },
   "file_extension": ".py",
   "mimetype": "text/x-python",
   "name": "python",
   "nbconvert_exporter": "python",
   "pygments_lexer": "ipython3",
   "version": "3.7.1"
  }
 },
 "nbformat": 4,
 "nbformat_minor": 4
}
